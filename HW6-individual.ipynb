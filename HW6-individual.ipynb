{
 "cells": [
  {
   "cell_type": "markdown",
   "metadata": {},
   "source": [
    "QUESTION 1 : Discuss for your project data with spatial and angular similarity algorithms"
   ]
  },
  {
   "cell_type": "code",
   "execution_count": 2,
   "metadata": {},
   "outputs": [],
   "source": [
    "\n",
    "from astroquery.gaia import Gaia\n",
    "from astropy.coordinates import SkyCoord\n",
    "import astropy.units as u\n",
    "import numpy as np\n",
    "import pandas as pd\n",
    "import matplotlib.pyplot as plt\n"
   ]
  },
  {
   "cell_type": "code",
   "execution_count": 3,
   "metadata": {},
   "outputs": [
    {
     "name": "stdout",
     "output_type": "stream",
     "text": [
      "INFO: Query finished. [astroquery.utils.tap.core]\n"
     ]
    }
   ],
   "source": [
    "# Abell 2218\n",
    "ra = 16 + (35 / 60) + (51.89 / 3600)\n",
    "dec = 66 + (12 / 60) + (38.71 / 3600)\n",
    "radius = 1 * u.deg\n",
    "\n",
    "coord = SkyCoord(ra=ra, dec=dec, unit=(u.deg, u.deg), frame='icrs')\n",
    "\n",
    "\n",
    "# In here I choose the rows I want to examine in df from the Gaia dataset(SQL query)\n",
    "Gaia.MAIN_GAIA_TABLE = \"gaiadr3.gaia_source\"\n",
    "job = Gaia.launch_job_async(f\"\"\"\n",
    "    SELECT source_id, ra, dec, parallax, pmra, pmdec, phot_g_mean_mag\n",
    "    FROM gaiadr3.gaia_source\n",
    "    WHERE CONTAINS(\n",
    "        POINT('ICRS', ra, dec),\n",
    "        CIRCLE('ICRS', {coord.ra.deg}, {coord.dec.deg}, {radius.to(u.deg).value})\n",
    "    ) = 1\n",
    "\"\"\")\n",
    "\n",
    "\n",
    "query_sql = job.get_results()\n",
    "df = query_sql.to_pandas()\n"
   ]
  },
  {
   "cell_type": "code",
   "execution_count": 7,
   "metadata": {},
   "outputs": [
    {
     "name": "stdout",
     "output_type": "stream",
     "text": [
      "Spatial Neighbors:\n",
      "                 SOURCE_ID         ra        dec  parallax      pmra  \\\n",
      "0       525126311051343744  17.798683  65.639858  0.268953 -2.704739   \n",
      "1       525151664237809792  18.102391  65.790572 -0.111366 -1.526526   \n",
      "2       525161044447176192  18.039968  65.977640 -0.043769 -1.900880   \n",
      "3       525161254905693568  17.987915  65.991849  0.347022  0.128281   \n",
      "4       525161254905694464  18.008731  65.987360  1.339953  2.084568   \n",
      "...                    ...        ...        ...       ...       ...   \n",
      "166064  525904043727666176  14.994908  65.901489  0.968841 -7.424394   \n",
      "166065  525904073790115584  15.001592  65.917176  0.515725 -1.682920   \n",
      "166066  525904078082833664  14.995603  65.915353  0.391826 -2.221112   \n",
      "166067  525904078085030016  14.997410  65.916489  2.271150 -3.191941   \n",
      "166068  525904078085033088  14.970098  65.927216 -0.178588  0.013924   \n",
      "\n",
      "           pmdec  phot_g_mean_mag     distance  distance_arcsec  \n",
      "0       0.834383        19.112629  2708.096402      2708.096402  \n",
      "1      -0.717164        19.009869  2672.316294      2672.316294  \n",
      "2      -0.224436        19.270481  2265.100209      2265.100209  \n",
      "3      -1.283607        19.533512  2175.180351      2175.180351  \n",
      "4      -1.025000        19.551344  2209.501174      2209.501174  \n",
      "...          ...              ...          ...              ...  \n",
      "166064  1.199296        17.260239  2592.882619      2592.882619  \n",
      "166065  0.279009        20.109140  2559.593278      2559.593278  \n",
      "166066  0.534048        19.705713  2570.344496      2570.344496  \n",
      "166067  0.063117        20.748604  2566.205525      2566.205525  \n",
      "166068 -0.083882        20.612923  2586.651833      2586.651833  \n",
      "\n",
      "[166069 rows x 9 columns]\n"
     ]
    }
   ],
   "source": [
    "center_coord = SkyCoord(ra=coord.ra, dec=coord.dec, unit='deg')\n",
    "\n",
    "df['distance_arcsec'] = df.apply(\n",
    "    lambda row: center_coord.separation(\n",
    "        SkyCoord(ra=row['ra']*u.deg, dec=row['dec']*u.deg)\n",
    "    ).arcsec,\n",
    "    axis=1\n",
    ")\n",
    "\n",
    "threshold_arcsec = 3600  # 1 derece\n",
    "spatial_neighbors = df[df['distance_arcsec'] <= threshold_arcsec]\n",
    "\n",
    "print(\"Spatial Neighbors:\")\n",
    "print(spatial_neighbors)\n",
    "\n"
   ]
  },
  {
   "cell_type": "code",
   "execution_count": 41,
   "metadata": {},
   "outputs": [
    {
     "name": "stdout",
     "output_type": "stream",
     "text": [
      "Spatial Neighbors:\n",
      "                 SOURCE_ID         ra        dec  parallax      pmra  \\\n",
      "0       525126311051343744  17.798683  65.639858  0.268953 -0.382872   \n",
      "1       525151664237809792  18.102391  65.790572 -0.111366 -0.138894   \n",
      "2       525161044447176192  18.039968  65.977640 -0.043769 -0.216413   \n",
      "3       525161254905693568  17.987915  65.991849  0.347022  0.203776   \n",
      "4       525161254905694464  18.008731  65.987360  1.339953  0.608874   \n",
      "...                    ...        ...        ...       ...       ...   \n",
      "166064  525904043727666176  14.994908  65.901489  0.968841 -1.360196   \n",
      "166065  525904073790115584  15.001592  65.917176  0.515725 -0.171279   \n",
      "166066  525904078082833664  14.995603  65.915353  0.391826 -0.282725   \n",
      "166067  525904078085030016  14.997410  65.916489  2.271150 -0.483760   \n",
      "166068  525904078085033088  14.970098  65.927216 -0.178588  0.180095   \n",
      "\n",
      "           pmdec  phot_g_mean_mag     distance  distance_arcsec  \\\n",
      "0       0.380326        19.112629  2708.096402      2708.096402   \n",
      "1      -0.172326        19.009869  2672.316294      2672.316294   \n",
      "2       0.003181        19.270481  2265.100209      2265.100209   \n",
      "3      -0.374090        19.533512  2175.180351      2175.180351   \n",
      "4      -0.281975        19.551344  2209.501174      2209.501174   \n",
      "...          ...              ...          ...              ...   \n",
      "166064  0.510306        17.260239  2592.882619      2592.882619   \n",
      "166065  0.182505        20.109140  2559.593278      2559.593278   \n",
      "166066  0.273349        19.705713  2570.344496      2570.344496   \n",
      "166067  0.105606        20.748604  2566.205525      2566.205525   \n",
      "166068  0.053246        20.612923  2586.651833      2586.651833   \n",
      "\n",
      "        angular_similarity  user_id  item_id  rating  \n",
      "0                        0        0        0       1  \n",
      "1                        0        1        1       1  \n",
      "2                        0        2        2       1  \n",
      "3                        0        3        3       1  \n",
      "4                        0        4        4       1  \n",
      "...                    ...      ...      ...     ...  \n",
      "166064                   0   166064   166064       1  \n",
      "166065                   0   166065   166065       1  \n",
      "166066                   0   166066   166066       1  \n",
      "166067                   0   166067   166067       1  \n",
      "166068                   0   166068   166068       1  \n",
      "\n",
      "[166069 rows x 13 columns]\n",
      "\n",
      "Angular Neighbors:\n",
      "Empty DataFrame\n",
      "Columns: [SOURCE_ID, ra, dec, parallax, pmra, pmdec, phot_g_mean_mag, distance, distance_arcsec, angular_similarity, user_id, item_id, rating, cosine_similarity]\n",
      "Index: []\n"
     ]
    }
   ],
   "source": [
    "reference_coord = SkyCoord(ra=coord.ra, dec=coord.dec, unit='deg')\n",
    "\n",
    "df['distance_arcsec'] = df.apply(\n",
    "    lambda row: reference_coord.separation(\n",
    "        SkyCoord(ra=row['ra']*u.deg, dec=row['dec']*u.deg)\n",
    "    ).arcsec,\n",
    "    axis=1\n",
    ")\n",
    "\n",
    "max_distance = 3600  # 1 derece\n",
    "spatial_neighbors = df[df['distance_arcsec'] <= max_distance]\n",
    "\n",
    "print(\"Spatial Neighbors:\")\n",
    "print(spatial_neighbors)\n",
    "\n",
    "initial_pm = np.array([0.0, 0.0])  \n",
    "\n",
    "# Açı benzerliğini hesaplama\n",
    "def calculate_cosine_similarity(row):\n",
    "    star_pm = np.array([row['pmra'], row['pmdec']])\n",
    "    dot_product = np.dot(initial_pm, star_pm)\n",
    "    norm_initial = np.linalg.norm(initial_pm)\n",
    "    norm_star = np.linalg.norm(star_pm)\n",
    "    \n",
    "    # Eğer norm sıfırsa 0\n",
    "    return dot_product / (norm_initial * norm_star) if norm_initial != 0 and norm_star != 0 else 0\n",
    "\n",
    "# Açı benzerliğini  df'e ekleme\n",
    "df['cosine_similarity'] = df.apply(calculate_cosine_similarity, axis=1)\n",
    "\n",
    "similarity_threshold = 0.9\n",
    "angular_neighbors = df[df['cosine_similarity'] >= similarity_threshold]\n",
    "\n",
    "print(\"\\nAngular Neighbors:\")\n",
    "print(angular_neighbors)\n"
   ]
  },
  {
   "cell_type": "code",
   "execution_count": null,
   "metadata": {},
   "outputs": [
    {
     "name": "stdout",
     "output_type": "stream",
     "text": [
      "                pmra          pmdec\n",
      "count  146883.000000  146883.000000\n",
      "mean       -0.855785      -0.233367\n",
      "std         4.829181       2.807465\n",
      "min      -236.234713    -162.896356\n",
      "25%        -2.252290      -0.847757\n",
      "50%        -1.282831      -0.012587\n",
      "75%        -0.222905       0.700809\n",
      "max       233.195316     158.626917\n"
     ]
    }
   ],
   "source": [
    "print(df[['pmra', 'pmdec']].describe())"
   ]
  },
  {
   "cell_type": "code",
   "execution_count": 42,
   "metadata": {},
   "outputs": [
    {
     "name": "stdout",
     "output_type": "stream",
     "text": [
      "                 SOURCE_ID         ra        dec  parallax      pmra  \\\n",
      "3       525161254905693568  17.987915  65.991849  0.347022  0.203776   \n",
      "4       525161254905694464  18.008731  65.987360  1.339953  0.608874   \n",
      "11      525020891072481792  17.547749  65.291644 -1.446273  0.325449   \n",
      "31      525021067170658816  17.494416  65.290364  0.910901  0.649043   \n",
      "40      525021101527721472  17.514663  65.298251  1.299199  0.174795   \n",
      "...                    ...        ...        ...       ...       ...   \n",
      "166034  525903970710553216  15.007341  65.903312  0.486422  0.239679   \n",
      "166036  525903975003639808  15.009637  65.897651  0.512403  0.265400   \n",
      "166038  525903975005805312  15.005960  65.891288 -1.276341  0.418001   \n",
      "166042  525903975008193920  15.008465  65.891810  0.320568  0.326196   \n",
      "166043  525903975008194944  15.012518  65.889082  1.187481  0.926737   \n",
      "\n",
      "           pmdec  phot_g_mean_mag     distance  distance_arcsec  \\\n",
      "3      -0.374090        19.533512  2175.180351      2175.180351   \n",
      "4      -0.281975        19.551344  2209.501174      2209.501174   \n",
      "11     -0.262943        20.505516  3594.481163      3594.481163   \n",
      "31     -0.839067        14.305020  3568.708683      3568.708683   \n",
      "40     -0.320272        20.720617  3553.591799      3553.591799   \n",
      "...          ...              ...          ...              ...   \n",
      "166034 -0.072664        18.321972  2573.587321      2573.587321   \n",
      "166036 -0.228845        19.946093  2579.630201      2579.630201   \n",
      "166038 -0.182920        20.888659  2594.795109      2594.795109   \n",
      "166042 -0.217750        17.402252  2590.660481      2590.660481   \n",
      "166043 -0.557317        12.707832  2589.839023      2589.839023   \n",
      "\n",
      "        angular_similarity  user_id  item_id  rating  cosine_similarity  \n",
      "3                 0.904305        3        3       1                  0  \n",
      "4                 0.980607        4        4       1                  0  \n",
      "11                0.998819       11       11       1                  0  \n",
      "31                0.960656       31       31       1                  0  \n",
      "40                0.904649       40       40       1                  0  \n",
      "...                    ...      ...      ...     ...                ...  \n",
      "166034            0.943883   166034   166034       1                  0  \n",
      "166036            0.996753   166036   166036       1                  0  \n",
      "166038            0.976232   166038   166038       1                  0  \n",
      "166042            0.999103   166042   166042       1                  0  \n",
      "166043            0.995994   166043   166043       1                  0  \n",
      "\n",
      "[15424 rows x 14 columns]\n"
     ]
    }
   ],
   "source": [
    "from sklearn.preprocessing import StandardScaler\n",
    "\n",
    "# Verileri normalize ediyoruz\n",
    "scaler = StandardScaler()\n",
    "df[['pmra', 'pmdec']] = scaler.fit_transform(df[['pmra', 'pmdec']])\n",
    "\n",
    "#angular similarity hesaplama\n",
    "center_pm_vector = np.array([df['pmra'].mean(), df['pmdec'].mean()])\n",
    "\n",
    "# Cosine similarity hesaplamaya devam et\n",
    "def angular_similarity(row):\n",
    "    target_vector = np.array([row['pmra'], row['pmdec']])\n",
    "    dot_product = np.dot(center_pm_vector, target_vector)\n",
    "    norm_center = np.linalg.norm(center_pm_vector)\n",
    "    norm_target = np.linalg.norm(target_vector)\n",
    "    return dot_product / (norm_center * norm_target) if norm_center != 0 and norm_target != 0 else 0\n",
    "\n",
    "df['angular_similarity'] = df.apply(angular_similarity, axis=1)\n",
    "\n",
    "threshold_cosine = 0.9\n",
    "angular_neighbors = df[df['angular_similarity'] >= threshold_cosine]\n",
    "\n",
    "print(angular_neighbors)\n"
   ]
  },
  {
   "cell_type": "markdown",
   "metadata": {},
   "source": [
    "2.SORU: COLLABORATIVE FILTERING "
   ]
  },
  {
   "cell_type": "code",
   "execution_count": null,
   "metadata": {},
   "outputs": [
    {
     "data": {
      "text/plain": [
       "SOURCE_ID    0\n",
       "pmra         0\n",
       "pmdec        0\n",
       "parallax     0\n",
       "dtype: int64"
      ]
     },
     "execution_count": 20,
     "metadata": {},
     "output_type": "execute_result"
    }
   ],
   "source": [
    "#NaN değerlerini kaldırma\n",
    "df_clean = df[['SOURCE_ID', 'pmra', 'pmdec', 'parallax']].dropna()\n",
    "df_clean.isnull().sum()\n"
   ]
  },
  {
   "cell_type": "code",
   "execution_count": 43,
   "metadata": {},
   "outputs": [
    {
     "name": "stdout",
     "output_type": "stream",
     "text": [
      "                 SOURCE_ID         ra        dec  parallax      pmra  \\\n",
      "1543    525072739924204672  17.100244  65.431486  0.170619 -0.815980   \n",
      "67276   525625450671508096  17.849084  66.649757  0.313928 -0.363293   \n",
      "15862   525155070150668416  18.240652  65.817188 -0.433285  0.568971   \n",
      "129225  526362982454573824  16.477334  66.594085  0.627090 -0.285475   \n",
      "26267   525539276446061312  18.167112  66.173680 -0.066679  0.589259   \n",
      "\n",
      "           pmdec  phot_g_mean_mag     distance  distance_arcsec  \\\n",
      "1543    0.747749        18.579243  2901.534800      2901.534800   \n",
      "67276   0.410670        19.023926  2396.262856      2396.262856   \n",
      "15862  -0.604535        20.707310  2790.595377      2790.595377   \n",
      "129225  0.632145        19.221394  1390.861811      1390.861811   \n",
      "26267  -0.512278        19.974356  2284.459217      2284.459217   \n",
      "\n",
      "        angular_similarity  user_id  item_id  rating  cosine_similarity  \n",
      "1543             -0.993865     1543     1543       1                  0  \n",
      "67276            -0.976855    67276    67276       1                  0  \n",
      "15862             0.982986    15862    15862       1                  0  \n",
      "129225           -0.869972   129225   129225       1                  0  \n",
      "26267             0.996418    26267    26267       1                  0  \n"
     ]
    }
   ],
   "source": [
    "#Yeterli yer olmadığından dolayı rastgele 1000 tanesinin üzerinden çalışacağım.\n",
    "df_sample = df.sample(n=1000, random_state=42)  \n",
    "print(df_sample.head())\n"
   ]
  },
  {
   "cell_type": "code",
   "execution_count": 44,
   "metadata": {},
   "outputs": [
    {
     "name": "stdout",
     "output_type": "stream",
     "text": [
      "          0         1         2         3         4         5         6    \\\n",
      "0    1.000000  0.992588 -0.635320  0.801214 -0.810178  0.295096  0.334156   \n",
      "1    0.992588  1.000000 -0.722047  0.867307 -0.873177  0.176818  0.388994   \n",
      "2   -0.635320 -0.722047  1.000000 -0.940713  0.967274  0.534571 -0.425165   \n",
      "3    0.801214  0.867307 -0.940713  1.000000 -0.973731 -0.328222  0.614237   \n",
      "4   -0.810178 -0.873177  0.967274 -0.973731  1.000000  0.306102 -0.419690   \n",
      "..        ...       ...       ...       ...       ...       ...       ...   \n",
      "868  0.444106  0.356804  0.337148 -0.007154  0.115719  0.802268  0.287489   \n",
      "869 -0.461658 -0.359683 -0.254328  0.140290 -0.034108 -0.904104  0.521526   \n",
      "870  0.374315  0.262148  0.400716 -0.251916  0.175426  0.966130 -0.481199   \n",
      "871 -0.620584 -0.524037 -0.210832 -0.065660  0.043184 -0.909819 -0.018601   \n",
      "872 -0.894919 -0.912627  0.649882 -0.868461  0.780707 -0.080329 -0.718900   \n",
      "\n",
      "          7         8         9    ...       863       864       865  \\\n",
      "0   -0.585793 -0.818412 -0.997810  ...  0.532796 -0.622824 -0.433283   \n",
      "1   -0.547779 -0.877828 -0.983886  ...  0.631464 -0.674762 -0.539576   \n",
      "2    0.031185  0.890625  0.600219  ... -0.964098  0.636413  0.950111   \n",
      "3   -0.367616 -0.991484 -0.764451  ...  0.931963 -0.826459 -0.882719   \n",
      "4    0.206366  0.939936  0.783517  ... -0.902983  0.677259  0.860058   \n",
      "..        ...       ...       ...  ...       ...       ...       ...   \n",
      "868 -0.885806 -0.104776 -0.458287  ... -0.315277 -0.313354  0.420241   \n",
      "869  0.221369 -0.130915  0.518081  ...  0.458888 -0.315925 -0.537182   \n",
      "870 -0.299056  0.223156 -0.430446  ... -0.573099  0.325839  0.652935   \n",
      "871  0.730029  0.141333  0.651929  ...  0.296731  0.163937 -0.409173   \n",
      "872  0.772442  0.919953  0.866817  ... -0.668209  0.901364  0.575404   \n",
      "\n",
      "          866       867       868       869       870       871       872  \n",
      "0    0.978412 -0.983256  0.444106 -0.461658  0.374315 -0.620584 -0.894919  \n",
      "1    0.985764 -0.997877  0.356804 -0.359683  0.262148 -0.524037 -0.912627  \n",
      "2   -0.741272  0.764950  0.337148 -0.254328  0.400716 -0.210832  0.649882  \n",
      "3    0.841346 -0.892471 -0.007154  0.140290 -0.251916 -0.065660 -0.868461  \n",
      "4   -0.885404  0.902849  0.115719 -0.034108  0.175426  0.043184  0.780707  \n",
      "..        ...       ...       ...       ...       ...       ...       ...  \n",
      "868  0.255613 -0.296883  1.000000 -0.560771  0.661573 -0.916038 -0.486257  \n",
      "869 -0.414676  0.317290 -0.560771  1.000000 -0.982860  0.826056  0.107386  \n",
      "870  0.295510 -0.211693  0.661573 -0.982860  1.000000 -0.867495 -0.065878  \n",
      "871 -0.481639  0.468315 -0.916038  0.826056 -0.867495  1.000000  0.485953  \n",
      "872 -0.832623  0.905436 -0.486257  0.107386 -0.065878  0.485953  1.000000  \n",
      "\n",
      "[873 rows x 873 columns]\n"
     ]
    }
   ],
   "source": [
    "from sklearn.metrics.pairwise import cosine_similarity\n",
    "import pandas as pd\n",
    "from sklearn.preprocessing import StandardScaler\n",
    "\n",
    "df_sample_clean = df_sample[['pmra', 'pmdec', 'parallax']].dropna()\n",
    "scaler = StandardScaler()\n",
    "\n",
    "data_matrix = df_sample_clean[['pmra', 'pmdec', 'parallax']].values\n",
    "data_matrix_scaled = scaler.fit_transform(data_matrix)\n",
    "similarity_matrix = cosine_similarity(data_matrix_scaled)\n",
    "\n",
    "similarity_df = pd.DataFrame(similarity_matrix)\n",
    "\n",
    "print(similarity_df)\n"
   ]
  },
  {
   "cell_type": "markdown",
   "metadata": {},
   "source": [
    "3.SORU: NEURAL COLLABORATIVE FILTERING      "
   ]
  },
  {
   "cell_type": "code",
   "execution_count": 33,
   "metadata": {},
   "outputs": [],
   "source": [
    "import numpy as np\n",
    "import pandas as pd\n",
    "import tensorflow as tf\n",
    "from tensorflow.keras.layers import Input, Embedding, Flatten, Dot, Dense, Concatenate\n",
    "from tensorflow.keras.models import Model\n",
    "from sklearn.model_selection import train_test_split\n"
   ]
  },
  {
   "cell_type": "code",
   "execution_count": 53,
   "metadata": {},
   "outputs": [],
   "source": [
    "df['user_id'] = df.index  # Gökcisimlerini kullanıcı olarak al\n",
    "df['item_id'] = df.index  # Aynı gökcisimlerini öğe olarak al\n",
    "\n",
    "df['rating'] = 1\n",
    "train, test = train_test_split(df[['user_id', 'item_id', 'rating']], test_size=0.2, random_state=42)\n"
   ]
  },
  {
   "cell_type": "code",
   "execution_count": 58,
   "metadata": {},
   "outputs": [],
   "source": [
    "num_users = df['user_id'].nunique()\n",
    "num_items = df['item_id'].nunique()\n",
    "embedding_dim = 8\n",
    "\n",
    "user_input = Input(shape=(1,), name='user_input')\n",
    "item_input = Input(shape=(1,), name='item_input')\n",
    "\n",
    "user_embedding = Embedding(input_dim=num_users, output_dim=embedding_dim, name='user_embedding')(user_input)\n",
    "item_embedding = Embedding(input_dim=num_items, output_dim=embedding_dim, name='item_embedding')(item_input)\n",
    "\n",
    "user_vector = Flatten()(user_embedding)\n",
    "item_vector = Flatten()(item_embedding)\n",
    "\n",
    "dot_product = Dot(axes=1)([user_vector, item_vector])\n",
    "\n",
    "dense_1 = Dense(64, activation='relu')(dot_product)\n",
    "dense_2 = Dense(32, activation='relu')(dense_1)\n",
    "output = Dense(1, activation='sigmoid')(dense_2)\n",
    "model = Model(inputs=[user_input, item_input], outputs=output)\n",
    "model.compile(optimizer='adam', loss='binary_crossentropy', metrics=['accuracy'])\n"
   ]
  },
  {
   "cell_type": "code",
   "execution_count": 60,
   "metadata": {},
   "outputs": [
    {
     "name": "stdout",
     "output_type": "stream",
     "text": [
      "Epoch 1/5\n",
      "\u001b[1m2076/2076\u001b[0m \u001b[32m━━━━━━━━━━━━━━━━━━━━\u001b[0m\u001b[37m\u001b[0m \u001b[1m54s\u001b[0m 26ms/step - accuracy: 1.0000 - loss: 9.0823e-07 - val_accuracy: 1.0000 - val_loss: 3.6200e-07\n",
      "Epoch 2/5\n",
      "\u001b[1m2076/2076\u001b[0m \u001b[32m━━━━━━━━━━━━━━━━━━━━\u001b[0m\u001b[37m\u001b[0m \u001b[1m55s\u001b[0m 26ms/step - accuracy: 1.0000 - loss: 2.7841e-07 - val_accuracy: 1.0000 - val_loss: 1.1532e-07\n",
      "Epoch 3/5\n",
      "\u001b[1m2076/2076\u001b[0m \u001b[32m━━━━━━━━━━━━━━━━━━━━\u001b[0m\u001b[37m\u001b[0m \u001b[1m55s\u001b[0m 26ms/step - accuracy: 1.0000 - loss: 8.8902e-08 - val_accuracy: 1.0000 - val_loss: 3.3769e-08\n",
      "Epoch 4/5\n",
      "\u001b[1m2076/2076\u001b[0m \u001b[32m━━━━━━━━━━━━━━━━━━━━\u001b[0m\u001b[37m\u001b[0m \u001b[1m56s\u001b[0m 27ms/step - accuracy: 1.0000 - loss: 2.9989e-08 - val_accuracy: 1.0000 - val_loss: 2.9253e-08\n",
      "Epoch 5/5\n",
      "\u001b[1m2076/2076\u001b[0m \u001b[32m━━━━━━━━━━━━━━━━━━━━\u001b[0m\u001b[37m\u001b[0m \u001b[1m58s\u001b[0m 28ms/step - accuracy: 1.0000 - loss: 2.9190e-08 - val_accuracy: 1.0000 - val_loss: 2.9178e-08\n"
     ]
    }
   ],
   "source": [
    "train_user = train['user_id'].values\n",
    "train_item = train['item_id'].values\n",
    "train_rating = train['rating'].values\n",
    "\n",
    "test_user = test['user_id'].values\n",
    "test_item = test['item_id'].values\n",
    "test_rating = test['rating'].values\n",
    "\n",
    "history = model.fit(\n",
    "    [train_user, train_item],\n",
    "    train_rating,\n",
    "    batch_size=64,\n",
    "    epochs=5,\n",
    "    validation_data=([test_user, test_item], test_rating)\n",
    ")\n",
    "\n",
    "## !! Overfit"
   ]
  },
  {
   "cell_type": "code",
   "execution_count": 61,
   "metadata": {},
   "outputs": [
    {
     "name": "stdout",
     "output_type": "stream",
     "text": [
      "\u001b[1m5190/5190\u001b[0m \u001b[32m━━━━━━━━━━━━━━━━━━━━\u001b[0m\u001b[37m\u001b[0m \u001b[1m5s\u001b[0m 1ms/step\n",
      "Recommended items: [166063 166062 166061 166060 166059]\n"
     ]
    }
   ],
   "source": [
    "def recommend_similar_items(user_id, model, num_recommendations=5):\n",
    "    item_ids = np.arange(num_items)  \n",
    "    user_ids = np.full_like(item_ids, user_id)\n",
    "\n",
    "    predictions = model.predict([user_ids, item_ids])\n",
    "    top_items = np.argsort(-predictions.flatten())[:num_recommendations]\n",
    "    return top_items\n",
    "\n",
    "user_id = train['user_id'].iloc[0]\n",
    "recommended_items = recommend_similar_items(user_id, model)\n",
    "print(\"Recommended items:\", recommended_items)\n"
   ]
  },
  {
   "cell_type": "code",
   "execution_count": 62,
   "metadata": {},
   "outputs": [
    {
     "name": "stdout",
     "output_type": "stream",
     "text": [
      "\u001b[1m1038/1038\u001b[0m \u001b[32m━━━━━━━━━━━━━━━━━━━━\u001b[0m\u001b[37m\u001b[0m \u001b[1m1s\u001b[0m 1ms/step - accuracy: 1.0000 - loss: 2.9179e-08\n",
      "Test Loss: 2.9178158555964728e-08, Test Accuracy: 1.0\n"
     ]
    }
   ],
   "source": [
    "# Test setinde model değerlendirme\n",
    "test_loss, test_accuracy = model.evaluate([test_user, test_item], test_rating)\n",
    "print(f\"Test Loss: {test_loss}, Test Accuracy: {test_accuracy}\")\n"
   ]
  },
  {
   "cell_type": "markdown",
   "metadata": {},
   "source": [
    "4.SORU: What is PCA analysis? Show with your data."
   ]
  },
  {
   "cell_type": "code",
   "execution_count": 30,
   "metadata": {},
   "outputs": [
    {
     "name": "stdout",
     "output_type": "stream",
     "text": [
      "Explained Variance Ratio: [0.35618358 0.23860297]\n"
     ]
    },
    {
     "data": {
      "image/png": "[encoded data removed]",
      "text/plain": [
       "<Figure size 800x600 with 1 Axes>"
      ]
     },
     "metadata": {},
     "output_type": "display_data"
    }
   ],
   "source": [
    "from sklearn.decomposition import PCA\n",
    "from sklearn.preprocessing import StandardScaler\n",
    "\n",
    "features = ['parallax', 'pmra', 'pmdec', 'phot_g_mean_mag']\n",
    "df_features = df[features].dropna() \n",
    "\n",
    "scaler = StandardScaler()\n",
    "scaled_features = scaler.fit_transform(df_features)\n",
    "\n",
    "pca = PCA(n_components=2) \n",
    "principal_components = pca.fit_transform(scaled_features)\n",
    "\n",
    "pca_df = pd.DataFrame(\n",
    "    data=principal_components, \n",
    "    columns=['Principal Component 1', 'Principal Component 2']\n",
    ")\n",
    "\n",
    "explained_variance = pca.explained_variance_ratio_\n",
    "print(f\"Explained Variance Ratio: {explained_variance}\")\n",
    "\n",
    "\n",
    "plt.figure(figsize=(8, 6))\n",
    "plt.scatter(pca_df['Principal Component 1'], pca_df['Principal Component 2'], alpha=0.7, edgecolor='k')\n",
    "plt.title(\"PCA of Gaia Dataset Features\")\n",
    "plt.xlabel(f\"Principal Component 1 ({explained_variance[0]*100:.2f}%)\")\n",
    "plt.ylabel(f\"Principal Component 2 ({explained_variance[1]*100:.2f}%)\")\n",
    "plt.grid()\n",
    "plt.show()\n"
   ]
  }
 ],
 "metadata": {
  "kernelspec": {
   "display_name": ".venv",
   "language": "python",
   "name": "python3"
  },
  "language_info": {
   "codemirror_mode": {
    "name": "ipython",
    "version": 3
   },
   "file_extension": ".py",
   "mimetype": "text/x-python",
   "name": "python",
   "nbconvert_exporter": "python",
   "pygments_lexer": "ipython3",
   "version": "3.12.3"
  }
 },
 "nbformat": 4,
 "nbformat_minor": 2
}
